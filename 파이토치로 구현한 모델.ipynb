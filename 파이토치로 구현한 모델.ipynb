{
 "cells": [
  {
   "cell_type": "markdown",
   "id": "063bab57",
   "metadata": {},
   "source": [
    "#  파이토치로 구현한 손글씨 데이터셋 모델"
   ]
  },
  {
   "cell_type": "code",
   "execution_count": 7,
   "id": "15a9471f",
   "metadata": {},
   "outputs": [],
   "source": [
    "import torch\n",
    "from torch import nn\n",
    "from torch.utils.data import DataLoader\n",
    "from torchvision import datasets\n",
    "from torchvision.transforms import ToTensor,Lambda, Compose\n",
    "import matplotlib.pyplot as plt\n",
    "import numpy as np"
   ]
  },
  {
   "cell_type": "code",
   "execution_count": 8,
   "id": "e7556b77",
   "metadata": {
    "tags": []
   },
   "outputs": [],
   "source": [
    "# 학습 데이터셋을 내려받음\n",
    "training_data = datasets.MNIST(\n",
    "    root='data',\n",
    "    train=True,\n",
    "    download=True,\n",
    "    transform=ToTensor()\n",
    ")\n",
    "\n",
    "test_data = datasets.MNIST(\n",
    "    root='data',\n",
    "    train=False,\n",
    "    download=True,\n",
    "    transform=ToTensor()\n",
    ")"
   ]
  },
  {
   "cell_type": "code",
   "execution_count": 9,
   "id": "8d3c5d38",
   "metadata": {},
   "outputs": [
    {
     "name": "stdout",
     "output_type": "stream",
     "text": [
      "Dataset MNIST\n",
      "    Number of datapoints: 60000\n",
      "    Root location: data\n",
      "    Split: Train\n",
      "    StandardTransform\n",
      "Transform: ToTensor()\n",
      "Dataset MNIST\n",
      "    Number of datapoints: 10000\n",
      "    Root location: data\n",
      "    Split: Test\n",
      "    StandardTransform\n",
      "Transform: ToTensor()\n"
     ]
    }
   ],
   "source": [
    "print(training_data)\n",
    "print(test_data)"
   ]
  },
  {
   "cell_type": "code",
   "execution_count": 10,
   "id": "8dd9fb4d",
   "metadata": {},
   "outputs": [
    {
     "name": "stdout",
     "output_type": "stream",
     "text": [
      "Shape of X [N, C, H, W] :  torch.Size([64, 1, 28, 28])\n",
      "Shape of y :  torch.Size([64]) torch.int64\n",
      "tensor([7, 2, 1, 0, 4, 1, 4, 9, 5, 9, 0, 6, 9, 0, 1, 5, 9, 7, 3, 4, 9, 6, 6, 5,\n",
      "        4, 0, 7, 4, 0, 1, 3, 1, 3, 4, 7, 2, 7, 1, 2, 1, 1, 7, 4, 2, 3, 5, 1, 2,\n",
      "        4, 4, 6, 3, 5, 5, 6, 0, 4, 1, 9, 5, 7, 8, 9, 3])\n"
     ]
    }
   ],
   "source": [
    "# 데이터로더를 생성, 텐서에서는 데이터 셋\n",
    "batch_size = 64\n",
    "\n",
    "train_dataloader = DataLoader(training_data, batch_size=batch_size)\n",
    "test_dataloader = DataLoader(test_data, batch_size=batch_size)\n",
    "\n",
    "for X, y in test_dataloader :\n",
    "    print('Shape of X [N, C, H, W] : ', X.shape) #(batch_size, Image num, height, weight)\n",
    "    print('Shape of y : ', y.shape, y.dtype) #라벨 값\n",
    "    print(y)\n",
    "    break"
   ]
  },
  {
   "cell_type": "code",
   "execution_count": 11,
   "id": "4f2c5067",
   "metadata": {},
   "outputs": [
    {
     "name": "stdout",
     "output_type": "stream",
     "text": [
      "938\n",
      "157\n"
     ]
    }
   ],
   "source": [
    "print(len(train_dataloader))\n",
    "print(len(test_dataloader))"
   ]
  },
  {
   "cell_type": "markdown",
   "id": "ec70bd28",
   "metadata": {},
   "source": [
    "### 학습에 사용할 CPU장치나 GPU장치를 얻음"
   ]
  },
  {
   "cell_type": "code",
   "execution_count": 12,
   "id": "e513cee8",
   "metadata": {},
   "outputs": [],
   "source": [
    "device = 'cuda' if torch.cuda.is_available() else 'cpu'\n",
    "print('사용중인 디바이스 : {}'.format(device))"
   ]
  },
  {
   "cell_type": "markdown",
   "id": "ac5369af",
   "metadata": {},
   "source": [
    "### 모델을 정의"
   ]
  },
  {
   "cell_type": "code",
   "execution_count": 13,
   "id": "b9818519",
   "metadata": {},
   "outputs": [],
   "source": [
    "class NeuralNetwork(nn.Module) :\n",
    "    def __init__(self) :\n",
    "        super(NeuralNetwork, self).__init__() # 부모 클래스의 init을 초기화 하면서 NerualNetwork와 self를 인자로 넘겨준다.\n",
    "        self.flatten = nn.Flatten()\n",
    "        self.linear_relu_stack = nn.Sequential(\n",
    "            nn.Linear(28*28, 128), # 28*28을 input으로 128개 노드생성\n",
    "            nn.ReLU(),\n",
    "            nn.Dropout(0.2),\n",
    "            nn.Linear(128, 10) # 128개의 노드를 받고 10개 노드로 output\n",
    "        )\n",
    "    \n",
    "    def forward(self, x) : #callback 함수와 동일\n",
    "        x = self.flatten(x)\n",
    "        logits = self.linear_relu_stack(x)\n",
    "        return logits"
   ]
  },
  {
   "cell_type": "code",
   "execution_count": 15,
   "id": "7904259f",
   "metadata": {},
   "outputs": [
    {
     "name": "stdout",
     "output_type": "stream",
     "text": [
      "NeuralNetwork(\n",
      "  (flatten): Flatten(start_dim=1, end_dim=-1)\n",
      "  (linear_relu_stack): Sequential(\n",
      "    (0): Linear(in_features=784, out_features=128, bias=True)\n",
      "    (1): ReLU()\n",
      "    (2): Dropout(p=0.2, inplace=False)\n",
      "    (3): Linear(in_features=128, out_features=10, bias=True)\n",
      "  )\n",
      ")\n"
     ]
    }
   ],
   "source": [
    "model = NeuralNetwork().to(device) #gpu에 올려라 (device가 gpu일 경우)\n",
    "print(model)"
   ]
  },
  {
   "cell_type": "markdown",
   "id": "2e1bbf69",
   "metadata": {},
   "source": [
    "Linear(in_features=784, out_features=128, bias=True)  \n",
    "bias = True : 해당 in_featurem out_features에 layer는 자동으로 학습함  \n",
    "bias = False : 해당 in_featurem out_features에 layer는 자동으로 학습하지 않음"
   ]
  },
  {
   "cell_type": "markdown",
   "id": "2ea9a855",
   "metadata": {},
   "source": [
    "### Loss 함수와 Optimizer 설정\n",
    "#### - parameters() :  iterator 객체를 반환"
   ]
  },
  {
   "cell_type": "code",
   "execution_count": 16,
   "id": "31f0fbfb",
   "metadata": {},
   "outputs": [],
   "source": [
    "loss_fn = nn.CrossEntropyLoss()\n",
    "optimizer = torch.optim.Adam(model.parameters(), lr=1e-3)"
   ]
  },
  {
   "cell_type": "markdown",
   "id": "2b83433f",
   "metadata": {},
   "source": [
    "### Trainging을 위한 함수"
   ]
  },
  {
   "cell_type": "code",
   "execution_count": 17,
   "id": "b5e5ddd4",
   "metadata": {},
   "outputs": [],
   "source": [
    "def train(dataloader, model, loss_fn, optimizer) :\n",
    "    size = len(dataloader.dataset) #size=60000\n",
    "    #print(\"size : \",size)\n",
    "    for batch, (X, y) in enumerate(dataloader) : # 데이터가 1000개 일때 batch_size가 20이라면 batch(iteration)는 50번, 즉 한번의 batch_size를 통과한 단위\n",
    "        X, y = X.to(device), y.to(device)\n",
    "        # 예측 오류 계산\n",
    "        pred = model(X)\n",
    "        loss = loss_fn(pred, y)\n",
    "        \n",
    "        # 역전파(Back-Propagation)\n",
    "        #   - 컴퓨터가 예측값의 정확도를 높이기 위해서 출력값과 실제 예측하고자 하는 값을 비교해서 가중치를 변경하는 작업\n",
    "        #   1. 주어진 입력값에 상관없이 임의의 초기 가중치를 준 뒤 은닉층을 거쳐 결과를 계산\n",
    "        #   2. 계산 결과와 실제 예측하고자 하는 값 사이의 오차를 구함\n",
    "        #   3. 가중치 업데이트\n",
    "        #   4. 1~3의 과정을 오차가 더이상 줄지 않을 때까지 반복\n",
    "        \n",
    "        # AI에게 학습이란? 기울기(Gradient)가 가장 작아지는 방향으로 업데이트를 반복하는 것\n",
    "        # 경사하강법(Gradient Descent)\n",
    "        # 학습할 때 사용되는 전체 데이터를 미분하여 기울기가 낮은 쪽으로 계속 이동시켜 극값을 구하면 이것을 근사값(예측값)으로 확정하는 원리\n",
    "        # 한 번 업데이트 할 때마다 전체 데이터를 미분해야 하기 때문에 진행 속도가 느림\n",
    "        # SGD(확률적 경사 하강법) : 랜덤 추출된 일부 데이터를 사용하여, 오차를 수정하기 전 수정값과 방향(+,-) 참고하고 변경시키는 방법\n",
    "        \n",
    "        optimizer.zero_grad() # 오차값이 계속 누적되므로 초기화 시켜준다. \n",
    "        loss.backward() # 경사 하강법(최적화) 실행\n",
    "        optimizer.step() # 기울기 업데이트\n",
    "        \n",
    "        if batch % 100 == 0 :\n",
    "            loss, current = loss.item(), batch * len(X)\n",
    "            print(f'loss : {loss:>7f} [{current:>5d}/{size:>5d}]')\n"
   ]
  },
  {
   "cell_type": "code",
   "execution_count": 18,
   "id": "567ea8ae",
   "metadata": {},
   "outputs": [],
   "source": [
    "# Test를 위한 함수\n",
    "def test(dataloader, model, loss_fn):\n",
    "    size = len(dataloader.dataset) # size=10000\n",
    "    num_batches = len(dataloader) \n",
    "    # Dropout layer 학습시에만 동작해야 한다.\n",
    "    model.eval() # 검증하기 위한 레이어만 켜두고 필요없는것들은 꺼둔다. ex) dropout처럼\n",
    "    test_loss, current = 0, 0\n",
    "    # autograd를 사용하지 않음으로 메모리 사용량을 줄이고 연산 속도를 높임\n",
    "    with torch.no_grad() : #gradient 엔진을 끈다.\n",
    "        for X, y  in dataloader :\n",
    "            X, y = X.to(device), y.to(device)\n",
    "            pred = model(X)\n",
    "            test_loss += loss_fn(pred, y).item()\n",
    "            current += (pred.argmax(1) == y).type(torch.float).sum().item() # 1 아니면 0 이 더해진다.\n",
    "            \n",
    "        test_loss /= num_batches \n",
    "        current /= size\n",
    "        print(f'Test Error: \\n Accuracy : {(100*current):>0.1f}%, Avg loss : {test_loss:>8f}\\n')"
   ]
  },
  {
   "cell_type": "code",
   "execution_count": 19,
   "id": "373d0792",
   "metadata": {},
   "outputs": [
    {
     "name": "stdout",
     "output_type": "stream",
     "text": [
      "Epoch 1\\---------\n",
      "loss : 2.302176 [    0/60000]\n",
      "loss : 0.485847 [ 6400/60000]\n",
      "loss : 0.303530 [12800/60000]\n",
      "loss : 0.346717 [19200/60000]\n",
      "loss : 0.288641 [25600/60000]\n",
      "loss : 0.314427 [32000/60000]\n",
      "loss : 0.188067 [38400/60000]\n",
      "loss : 0.376779 [44800/60000]\n",
      "loss : 0.251770 [51200/60000]\n",
      "loss : 0.340760 [57600/60000]\n",
      "Test Error: \n",
      " Accuracy : 94.2%, Avg loss : 0.197245\n",
      "\n",
      "Epoch 2\\---------\n",
      "loss : 0.131973 [    0/60000]\n",
      "loss : 0.218210 [ 6400/60000]\n",
      "loss : 0.108718 [12800/60000]\n",
      "loss : 0.223115 [19200/60000]\n",
      "loss : 0.147579 [25600/60000]\n",
      "loss : 0.229662 [32000/60000]\n",
      "loss : 0.065992 [38400/60000]\n",
      "loss : 0.237977 [44800/60000]\n",
      "loss : 0.183156 [51200/60000]\n",
      "loss : 0.242569 [57600/60000]\n",
      "Test Error: \n",
      " Accuracy : 96.1%, Avg loss : 0.131514\n",
      "\n",
      "End\n"
     ]
    }
   ],
   "source": [
    "epochs = 2\n",
    "for t in range(epochs) :\n",
    "    print(f'Epoch {t+1}\\---------')\n",
    "    train(train_dataloader, model, loss_fn, optimizer)\n",
    "    test(test_dataloader, model, loss_fn)\n",
    "print('End')"
   ]
  },
  {
   "cell_type": "markdown",
   "id": "6361d224",
   "metadata": {},
   "source": [
    "#### 파일 불러오기"
   ]
  },
  {
   "cell_type": "code",
   "execution_count": 13,
   "id": "40d97edb",
   "metadata": {},
   "outputs": [],
   "source": [
    "import os\n",
    "from PIL import Image\n",
    "import random"
   ]
  },
  {
   "cell_type": "code",
   "execution_count": 14,
   "id": "7d2437bd",
   "metadata": {},
   "outputs": [
    {
     "data": {
      "image/png": "[encoded data removed]",
      "text/plain": [
       "<Figure size 432x288 with 1 Axes>"
      ]
     },
     "metadata": {
      "needs_background": "light"
     },
     "output_type": "display_data"
    }
   ],
   "source": [
    "cur_dir = os.getcwd()\n",
    "img_path = os.path.join(cur_dir, 'image_3.png')\n",
    "\n",
    "cur_img = Image.open(img_path)\n",
    "cur_img = cur_img.resize((28, 28))\n",
    "image = np.asarray(cur_img)\n",
    "\n",
    "try :\n",
    "    image = np.mean(image, axis=2) # color image를 gray scale로 바꿀 수 있음\n",
    "except :\n",
    "    pass\n",
    "\n",
    "image = np.abs(255 - image) # 이미지 반전을 시켜준다.\n",
    "image = image.astype(np.float32) / 255.0 # rescale # 이미지 정규화\n",
    "plt.imshow(image, cmap='gray')\n",
    "plt.show()"
   ]
  },
  {
   "cell_type": "code",
   "execution_count": 15,
   "id": "7119c3d4",
   "metadata": {},
   "outputs": [
    {
     "name": "stdout",
     "output_type": "stream",
     "text": [
      "model이 예측한 값은 : 3\n"
     ]
    }
   ],
   "source": [
    "image = torch.as_tensor(image).to(device).reshape(1, 1, 28, 28) # (batch, 이미지 개수, height, weight)\n",
    "model.eval() # 테스트할 때 필요없는 레이어의 기능을 끄는 것\n",
    "predict = model(image)\n",
    "print('model이 예측한 값은 : {}'.format(predict.argmax(1).item()))"
   ]
  },
  {
   "cell_type": "code",
   "execution_count": 16,
   "id": "c71f478b",
   "metadata": {},
   "outputs": [],
   "source": [
    "training_data = datasets.FashionMNIST(\n",
    "    root='data',\n",
    "    train=True,\n",
    "    download=True,\n",
    "    transform=ToTensor()\n",
    ")\n",
    "\n",
    "test_data = datasets.FashionMNIST(\n",
    "    root='data',\n",
    "    train=False,\n",
    "    download=True,\n",
    "    transform=ToTensor()\n",
    ")"
   ]
  },
  {
   "cell_type": "code",
   "execution_count": 17,
   "id": "6843df6e",
   "metadata": {},
   "outputs": [],
   "source": [
    "labels_map = {\n",
    "    0:'T-shart/top', 1:'Trouser', 2:'Pullover', 3:'Dress', 4:'Coat', 5:'Sandal', 6:'Shirt', 7:'Sneaker', 8:'Bag', 9:'Ankle boot'\n",
    "}"
   ]
  },
  {
   "cell_type": "code",
   "execution_count": 18,
   "id": "9664ff29",
   "metadata": {},
   "outputs": [
    {
     "data": {
      "image/png": "[encoded data removed]",
      "text/plain": [
       "<Figure size 576x576 with 9 Axes>"
      ]
     },
     "metadata": {
      "needs_background": "light"
     },
     "output_type": "display_data"
    }
   ],
   "source": [
    "figure = plt.figure(figsize=(8, 8))\n",
    "cols, rows = 3, 3\n",
    "for i in range(1, cols*rows +1) :\n",
    "    sample_idx = torch.randint(len(training_data), size=(1,)).item()\n",
    "    img, label = training_data[sample_idx]\n",
    "    figure.add_subplot(rows, cols, i)\n",
    "    plt.title(labels_map[label])\n",
    "    plt.axis('off')\n",
    "    plt.imshow(img.squeeze(), cmap='gray') # 채널을 없애줌 1을 삭제, 28*28, unsqueeze() 차원을 생성\n",
    "plt.show()"
   ]
  },
  {
   "cell_type": "markdown",
   "id": "52d78174",
   "metadata": {},
   "source": [
    "#### DataLoader 만들기"
   ]
  },
  {
   "cell_type": "code",
   "execution_count": 19,
   "id": "ceb9f340",
   "metadata": {},
   "outputs": [],
   "source": [
    "train_dataloader = DataLoader(training_data, batch_size=64, shuffle=True)\n",
    "test_dataloader = DataLoader(test_data, batch_size=64, shuffle=True)"
   ]
  },
  {
   "cell_type": "code",
   "execution_count": 20,
   "id": "d227caac",
   "metadata": {},
   "outputs": [
    {
     "name": "stdout",
     "output_type": "stream",
     "text": [
      "Feature batch shape : torch.Size([64, 1, 28, 28])\n",
      "Labels batch shape : torch.Size([64])\n"
     ]
    },
    {
     "data": {
      "image/png": "[encoded data removed]",
      "text/plain": [
       "<Figure size 432x288 with 1 Axes>"
      ]
     },
     "metadata": {
      "needs_background": "light"
     },
     "output_type": "display_data"
    },
    {
     "name": "stdout",
     "output_type": "stream",
     "text": [
      "Label: 8\n"
     ]
    }
   ],
   "source": [
    "train_features, train_labels = next(iter(train_dataloader))\n",
    "print(f'Feature batch shape : {train_features.size()}') # (batch, Channel, Height, Width)\n",
    "print(f'Labels batch shape : {train_labels.size()}')\n",
    "\n",
    "img = train_features[0].squeeze()\n",
    "label = train_labels[0]\n",
    "plt.imshow(img, cmap='gray')\n",
    "plt.show()\n",
    "print(f'Label: {label}')"
   ]
  },
  {
   "cell_type": "markdown",
   "id": "7b673bdc",
   "metadata": {},
   "source": [
    "### device 정의하기"
   ]
  },
  {
   "cell_type": "code",
   "execution_count": 21,
   "id": "39c04da3",
   "metadata": {},
   "outputs": [
    {
     "name": "stdout",
     "output_type": "stream",
     "text": [
      "using device : cpu\n"
     ]
    }
   ],
   "source": [
    "device = 'cuda' if torch.cuda.is_available() else 'cpu'\n",
    "print('using device : {}'.format(device))"
   ]
  },
  {
   "cell_type": "markdown",
   "id": "9683eecb",
   "metadata": {},
   "source": [
    "### 모델 클레스 만들기"
   ]
  },
  {
   "cell_type": "code",
   "execution_count": 22,
   "id": "b4eaf09a",
   "metadata": {},
   "outputs": [],
   "source": [
    "# Model class 만들기\n",
    "class NeuralNetwork(nn.Module):\n",
    "    def __init__(self):\n",
    "        super(NeuralNetwork, self).__init__()\n",
    "        self.flatten = nn.Flatten()\n",
    "        self.linear_relu_stack = nn.Sequential(\n",
    "            nn.Linear(28*28, 128), \n",
    "            nn.ReLU(),\n",
    "            nn.Dropout(0.2),\n",
    "            nn.Linear(128, 10)\n",
    "        )\n",
    "\n",
    "    def forward(self, x):\n",
    "        x = self.flatten(x)\n",
    "        logits = self.linear_relu_stack(x)\n",
    "        return logits"
   ]
  },
  {
   "cell_type": "markdown",
   "id": "43a7cf61",
   "metadata": {},
   "source": [
    "### Model 객체 생성"
   ]
  },
  {
   "cell_type": "code",
   "execution_count": 23,
   "id": "6adb4b3b",
   "metadata": {},
   "outputs": [
    {
     "name": "stdout",
     "output_type": "stream",
     "text": [
      "NeuralNetwork(\n",
      "  (flatten): Flatten(start_dim=1, end_dim=-1)\n",
      "  (linear_relu_stack): Sequential(\n",
      "    (0): Linear(in_features=784, out_features=128, bias=True)\n",
      "    (1): ReLU()\n",
      "    (2): Dropout(p=0.2, inplace=False)\n",
      "    (3): Linear(in_features=128, out_features=10, bias=True)\n",
      "  )\n",
      ")\n"
     ]
    }
   ],
   "source": [
    "model = NeuralNetwork().to(device)\n",
    "print(model)"
   ]
  },
  {
   "cell_type": "markdown",
   "id": "dfa23096",
   "metadata": {},
   "source": [
    "### 가상의 데이터를 만들어서 예측"
   ]
  },
  {
   "cell_type": "code",
   "execution_count": 24,
   "id": "ef57738a",
   "metadata": {},
   "outputs": [
    {
     "name": "stdout",
     "output_type": "stream",
     "text": [
      "예측된 클래스 : tensor([3])\n"
     ]
    }
   ],
   "source": [
    "X = torch.rand(1, 28, 28, device=device) # 1, 28, 28 은 1channel , 28 height, 28 width \n",
    "logits = model(X)\n",
    "pred_probab = nn.Softmax(dim=1)(logits)\n",
    "y_pred = pred_probab.argmax(1)\n",
    "print(f'예측된 클래스 : {y_pred}')"
   ]
  },
  {
   "cell_type": "code",
   "execution_count": 25,
   "id": "06fd6cac",
   "metadata": {},
   "outputs": [],
   "source": [
    "loss_fn = nn.CrossEntropyLoss()"
   ]
  },
  {
   "cell_type": "code",
   "execution_count": 26,
   "id": "a2132347",
   "metadata": {},
   "outputs": [],
   "source": [
    "learning_rate = 1e-3\n",
    "optimizer = torch.optim.Adam(model.parameters(), lr=learning_rate)"
   ]
  },
  {
   "cell_type": "code",
   "execution_count": 27,
   "id": "e638e39d",
   "metadata": {},
   "outputs": [
    {
     "data": {
      "text/plain": [
       "Dataset FashionMNIST\n",
       "    Number of datapoints: 60000\n",
       "    Root location: data\n",
       "    Split: Train\n",
       "    StandardTransform\n",
       "Transform: ToTensor()"
      ]
     },
     "execution_count": 27,
     "metadata": {},
     "output_type": "execute_result"
    }
   ],
   "source": [
    "train_dataloader.dataset"
   ]
  },
  {
   "cell_type": "code",
   "execution_count": 28,
   "id": "56ddb230",
   "metadata": {},
   "outputs": [
    {
     "data": {
      "text/plain": [
       "60000"
      ]
     },
     "execution_count": 28,
     "metadata": {},
     "output_type": "execute_result"
    }
   ],
   "source": [
    "len(train_dataloader.dataset)"
   ]
  },
  {
   "cell_type": "code",
   "execution_count": 29,
   "id": "e02b48b0",
   "metadata": {},
   "outputs": [
    {
     "data": {
      "text/plain": [
       "<torch.utils.data.dataloader.DataLoader at 0x13479d5e0>"
      ]
     },
     "execution_count": 29,
     "metadata": {},
     "output_type": "execute_result"
    }
   ],
   "source": [
    "train_dataloader"
   ]
  },
  {
   "cell_type": "code",
   "execution_count": 30,
   "id": "5af0966e",
   "metadata": {},
   "outputs": [
    {
     "data": {
      "text/plain": [
       "938"
      ]
     },
     "execution_count": 30,
     "metadata": {},
     "output_type": "execute_result"
    }
   ],
   "source": [
    "len(train_dataloader)"
   ]
  },
  {
   "cell_type": "code",
   "execution_count": 31,
   "id": "fc61b097",
   "metadata": {},
   "outputs": [],
   "source": [
    "def train_loop(dataloader, model, loss_fn, optimier) :\n",
    "    size = len(dataloader.dataset) # 60000\n",
    "    \n",
    "    for batch, (X, y) in enumerate(dataloader) : # len(train_dataloader)는 938 , 64x937 + 32 이므로 64 * 938 로 하되 마지막 938번째에는 32개의 데이터만 들어있음\n",
    "        X, y = X. to(device), y.to(device)\n",
    "        pred = model(X)\n",
    "        loss = loss_fn(pred, y)\n",
    "\n",
    "        optimizer.zero_grad() # gradient값들을 backward를 해줄 때 게속 값이 누적되기 때문에 loss.backward()를 호출 할 때 \n",
    "                              #초기설정을 매번 더해주므로 한번의 학습이 끝나면 값을 0으로 초기화 해주기 위해 사용\n",
    "        loss.backward() # 역전파가 일어남\n",
    "        optimizer.step() # 기울기 업데이트\n",
    "        \n",
    "        \n",
    "        if batch % 100 == 0:\n",
    "            loss, current = loss.item(), batch * len(X)\n",
    "            print(f'loss : {loss:>7f} [{current:>5d}/{size:>5d}]')\n",
    "            \n",
    "        #if batch == 938 : #그런데 938번째에 대해서는 데이터를 주지 못하고 있다.. 마지막 32개의 데이터는 버리는 것인가? (해결) : 0부터 시작하기 때문에 937이면 938번을 한 것임.\n",
    "            #print('938번째 배치  : ',batch)\n",
    "            \n",
    "    #print('train_batch  : ',batch)"
   ]
  },
  {
   "cell_type": "code",
   "execution_count": 32,
   "id": "6d3cc53a",
   "metadata": {},
   "outputs": [],
   "source": [
    "def test_loop(dataloader, model, loss_fn) :\n",
    "    size = len(dataloader.dataset) # 10000 \n",
    "\n",
    "    num_batches = len(dataloader)\n",
    "    test_loss, current = 0, 0\n",
    "    \n",
    "    model.eval() # 필요없는 레이어 연산을 막아주고\n",
    "    \n",
    "    with torch.no_grad() : # 그레디언트를 막아준다 (메모리 절약)\n",
    "        for batch, (X, y) in enumerate(dataloader) :\n",
    "            X, y = X.to(device), y.to(device)\n",
    "            pred = model(X)\n",
    "            test_loss += loss_fn(pred, y).item()\n",
    "            current += (pred.argmax(1) == y).type(torch.float).sum().item()\n",
    "        \n",
    "    test_loss /= num_batches\n",
    "    current /= size\n",
    "    \n",
    "    print(f'Test Error : \\n Accuracy : {(100*current):>0.1f}%, Avg loss : {test_loss:>8f} \\n')"
   ]
  },
  {
   "cell_type": "markdown",
   "id": "58ea1bc9",
   "metadata": {},
   "source": [
    "### 학습"
   ]
  },
  {
   "cell_type": "code",
   "execution_count": 33,
   "id": "22f10cf1",
   "metadata": {},
   "outputs": [
    {
     "name": "stdout",
     "output_type": "stream",
     "text": [
      "Epoch 1\\------------\n",
      "loss : 2.330221 [    0/60000]\n",
      "loss : 0.760801 [ 6400/60000]\n",
      "loss : 0.707829 [12800/60000]\n",
      "loss : 0.436466 [19200/60000]\n",
      "loss : 0.613348 [25600/60000]\n",
      "loss : 0.514529 [32000/60000]\n",
      "loss : 0.437447 [38400/60000]\n",
      "loss : 0.376853 [44800/60000]\n",
      "loss : 0.502566 [51200/60000]\n",
      "loss : 0.515700 [57600/60000]\n",
      "Test Error : \n",
      " Accuracy : 83.2%, Avg loss : 0.464159 \n",
      "\n"
     ]
    }
   ],
   "source": [
    "epochs = 1\n",
    "for t in range(epochs) :\n",
    "    print(f'Epoch {t+1}\\\\------------')\n",
    "    train_loop(train_dataloader, model, loss_fn, optimizer)\n",
    "    test_loop(test_dataloader, model, loss_fn)"
   ]
  },
  {
   "cell_type": "markdown",
   "id": "e72eaee4",
   "metadata": {},
   "source": [
    "### 학습된 model parameter 저장"
   ]
  },
  {
   "cell_type": "code",
   "execution_count": 34,
   "id": "d989be27",
   "metadata": {},
   "outputs": [],
   "source": [
    "torch.save(model.state_dict(), 'model_weights.pth')"
   ]
  },
  {
   "cell_type": "markdown",
   "id": "29aaf32a",
   "metadata": {},
   "source": [
    "### 새 model instance를 생성"
   ]
  },
  {
   "cell_type": "code",
   "execution_count": 35,
   "id": "21c5d0b8",
   "metadata": {},
   "outputs": [
    {
     "name": "stdout",
     "output_type": "stream",
     "text": [
      "NeuralNetwork(\n",
      "  (flatten): Flatten(start_dim=1, end_dim=-1)\n",
      "  (linear_relu_stack): Sequential(\n",
      "    (0): Linear(in_features=784, out_features=128, bias=True)\n",
      "    (1): ReLU()\n",
      "    (2): Dropout(p=0.2, inplace=False)\n",
      "    (3): Linear(in_features=128, out_features=10, bias=True)\n",
      "  )\n",
      ")\n"
     ]
    }
   ],
   "source": [
    "model2 = NeuralNetwork().to(device)\n",
    "print(model2)"
   ]
  },
  {
   "cell_type": "markdown",
   "id": "37a41585",
   "metadata": {},
   "source": [
    "### 무작위 가중치에서 학습"
   ]
  },
  {
   "cell_type": "code",
   "execution_count": 36,
   "id": "6e78e374",
   "metadata": {},
   "outputs": [
    {
     "name": "stdout",
     "output_type": "stream",
     "text": [
      "Test Error : \n",
      " Accuracy : 9.1%, Avg loss : 2.318024 \n",
      "\n"
     ]
    }
   ],
   "source": [
    "model2.eval()\n",
    "test_loop(test_dataloader, model2, loss_fn)"
   ]
  },
  {
   "cell_type": "markdown",
   "id": "6e365829",
   "metadata": {},
   "source": [
    "### 저장된 parameter 불러오기"
   ]
  },
  {
   "cell_type": "code",
   "execution_count": 37,
   "id": "c443a352",
   "metadata": {},
   "outputs": [
    {
     "name": "stdout",
     "output_type": "stream",
     "text": [
      "Test Error : \n",
      " Accuracy : 83.2%, Avg loss : 0.466095 \n",
      "\n"
     ]
    }
   ],
   "source": [
    "model2.load_state_dict(torch.load('model_weights.pth'))\n",
    "\n",
    "model2.eval()\n",
    "test_loop(test_dataloader, model2, loss_fn)"
   ]
  },
  {
   "cell_type": "markdown",
   "id": "ee333c75",
   "metadata": {},
   "source": [
    "### model 전체를 저장하고 불러오기"
   ]
  },
  {
   "cell_type": "code",
   "execution_count": 38,
   "id": "f0f03bbe",
   "metadata": {},
   "outputs": [],
   "source": [
    "torch.save(model, 'model.pth') # 저장\n",
    "model3 = torch.load('model.pth') # 불러오기"
   ]
  },
  {
   "cell_type": "markdown",
   "id": "4e6d141f",
   "metadata": {},
   "source": [
    "### 테스트"
   ]
  },
  {
   "cell_type": "code",
   "execution_count": 39,
   "id": "b9c2eba4",
   "metadata": {},
   "outputs": [
    {
     "name": "stdout",
     "output_type": "stream",
     "text": [
      "Test Error : \n",
      " Accuracy : 83.2%, Avg loss : 0.464990 \n",
      "\n"
     ]
    }
   ],
   "source": [
    "model3.eval()\n",
    "test_loop(test_dataloader, model3, loss_fn)"
   ]
  },
  {
   "cell_type": "markdown",
   "id": "73ddfe1a",
   "metadata": {},
   "source": []
  }
 ],
 "metadata": {
  "kernelspec": {
   "display_name": "Python 3 (ipykernel)",
   "language": "python",
   "name": "python3"
  },
  "language_info": {
   "codemirror_mode": {
    "name": "ipython",
    "version": 3
   },
   "file_extension": ".py",
   "mimetype": "text/x-python",
   "name": "python",
   "nbconvert_exporter": "python",
   "pygments_lexer": "ipython3",
   "version": "3.10.4"
  }
 },
 "nbformat": 4,
 "nbformat_minor": 5
}
